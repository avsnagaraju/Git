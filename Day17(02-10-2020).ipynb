{
 "cells": [
  {
   "cell_type": "code",
   "execution_count": 17,
   "metadata": {},
   "outputs": [
    {
     "name": "stdout",
     "output_type": "stream",
     "text": [
      "123\n",
      "6\n"
     ]
    }
   ],
   "source": [
    "# find the sum of digits ex:123--->1+2+3=6\n",
    "# Function to get sum of digits   \n",
    "def Sum(n):  \n",
    "     \n",
    "    sum = 0\n",
    "    for digit in str(n):   \n",
    "      sum += int(digit)        \n",
    "    return sum\n",
    "    \n",
    "n = int(input())\n",
    "print(Sum(n))\n"
   ]
  },
  {
   "cell_type": "code",
   "execution_count": 3,
   "metadata": {},
   "outputs": [
    {
     "name": "stdout",
     "output_type": "stream",
     "text": [
      "123\n",
      "sum of digits: 3\n",
      "sum of digits: 5\n",
      "sum of digits: 6\n"
     ]
    }
   ],
   "source": [
    "n=int(input())\n",
    "sm=0\n",
    "while(n>0):        #123>0  ,      12>0  ,1>0\n",
    "    r=n%10     #123%10=>3  ,  12%10=>2\n",
    "    sm=sm+r       #0+3=>3   ,  3+2=>5\n",
    "    n=n//10   #123//10=>12 ,  12//10=>1\n",
    "    print(\"sum of digits:\",sm)"
   ]
  },
  {
   "cell_type": "code",
   "execution_count": 1,
   "metadata": {},
   "outputs": [
    {
     "data": {
      "text/plain": [
       "12"
      ]
     },
     "execution_count": 1,
     "metadata": {},
     "output_type": "execute_result"
    }
   ],
   "source": [
    "123//10"
   ]
  },
  {
   "cell_type": "code",
   "execution_count": 7,
   "metadata": {},
   "outputs": [
    {
     "name": "stdout",
     "output_type": "stream",
     "text": [
      "123\n",
      "count: 3\n"
     ]
    }
   ],
   "source": [
    "#s=123 find count no. of digits =>3\n",
    "s = input()\n",
    "n=int(s)\n",
    "c = 0\n",
    "while(n>0):      #123>0\n",
    "    r=n%10       #123%10=>3\n",
    "    c=c+1        #\n",
    "    n=n//10\n",
    "print(\"count:\",c)"
   ]
  },
  {
   "cell_type": "code",
   "execution_count": 16,
   "metadata": {},
   "outputs": [
    {
     "name": "stdout",
     "output_type": "stream",
     "text": [
      "121\n",
      "it is a pallendrome 121\n"
     ]
    }
   ],
   "source": [
    "#find the given number is pallendrome or not ex:212=>212\n",
    "n = int(input())\n",
    "t=n\n",
    "rev=0\n",
    "while(n>0):\n",
    "    r=n%10\n",
    "    rev=rev*10+r\n",
    "    n=n//10\n",
    "if(t==rev):\n",
    "    print(\"it is a pallendrome\",rev)\n",
    "else:\n",
    "    print(\"not a pallindrome\")"
   ]
  },
  {
   "cell_type": "code",
   "execution_count": 12,
   "metadata": {},
   "outputs": [
    {
     "name": "stdout",
     "output_type": "stream",
     "text": [
      "Enter a number:121\n",
      "Palindrome\n"
     ]
    }
   ],
   "source": [
    "# find the given number is palindrome or not\n",
    "# 212 -> 212 (Palindrome) , 123 -> 321 (not Palindrome)\n",
    "n=int(input(\"Enter a number:\"))\n",
    "temp=n\n",
    "rev=0\n",
    "while(n>0):\n",
    "    a=n%10\n",
    "    rev=rev*10+a\n",
    "    n=n//10\n",
    "if(temp==rev):\n",
    "    print(\"Palindrome\")\n",
    "else:\n",
    "    print(\"Not Palindrome\")"
   ]
  },
  {
   "cell_type": "code",
   "execution_count": 1,
   "metadata": {},
   "outputs": [
    {
     "name": "stdout",
     "output_type": "stream",
     "text": [
      "16072003\n",
      "single digit of given 1\n"
     ]
    }
   ],
   "source": [
    "#sum of given digit upto get  single digit\n",
    "#2301-->2+3+0+1=>6\n",
    "#1996=>1+9+9+6=>25\n",
    "n=int(input())\n",
    "sm=0\n",
    "while(n>0 or sm>9):#1996>0 or 0>9\n",
    "    if(n==0):\n",
    "        n=sm\n",
    "        sm=0\n",
    "    r=n%10        #1996%10=>6\n",
    "    sm=sm+r       #sm=6\n",
    "    n=n//10       #1996//10=>199\n",
    "    \n",
    "print(\"single digit of given no.:\",sm)"
   ]
  },
  {
   "cell_type": "code",
   "execution_count": 4,
   "metadata": {},
   "outputs": [
    {
     "name": "stdout",
     "output_type": "stream",
     "text": [
      "Enter a number:153\n",
      "Not armstrong\n"
     ]
    }
   ],
   "source": [
    "#armstrong number:sum of cubes of individuals no. is equal to the given number\n",
    "#153=>1*1*1+5*5*5+3*3*3=>1+125+27=>153\n",
    "#1993=>1*1*1*1+6*6*6*6+4*4*4*4=>\n",
    "n=int(input(\"Enter a number:\"))\n",
    "temp=n\n",
    "rev=0\n",
    "while(n>0):\n",
    "    a=n%10\n",
    "    rev=10+(rev*rev*rev)\n",
    "    n=n//10\n",
    "if(temp==rev):\n",
    "    print(\"armstrong\")\n",
    "else:\n",
    "    print(\"Not armstrong\")"
   ]
  },
  {
   "cell_type": "code",
   "execution_count": 3,
   "metadata": {},
   "outputs": [
    {
     "name": "stdout",
     "output_type": "stream",
     "text": [
      "Enter a number: 153\n",
      "Armstrong number\n"
     ]
    }
   ],
   "source": [
    "#find the given number is armstrong or not\n",
    "# sum of cubes of individual number is equal to the given number is armstrong number\n",
    "# 153 -> 1*1*1 + 5*5*5 + 3*3*3 -> 1+125+27 -> 153\n",
    "# 1634 -> 1*1*1*1 + 6*6*6*6 + 3*3*3*3 + 4*4*4*4 \n",
    "\n",
    "n=int(input(\"Enter a number: \"))\n",
    "sum=0\n",
    "temp = n\n",
    "while (temp > 0):\n",
    "    a = temp % 10\n",
    "    sum += a ** 3\n",
    "    temp = temp// 10\n",
    "if (n == sum):\n",
    "    print(\"Armstrong number\")\n",
    "else:\n",
    "    print(\"not an Armstrong number\")"
   ]
  },
  {
   "cell_type": "code",
   "execution_count": 6,
   "metadata": {},
   "outputs": [
    {
     "name": "stdout",
     "output_type": "stream",
     "text": [
      "1634\n",
      "armstrong\n"
     ]
    }
   ],
   "source": [
    "n=int(input())\n",
    "l=len(str(n))\n",
    "temp=n\n",
    "s=0\n",
    "while(n>0):\n",
    "    r=n%10\n",
    "    s=s+pow(r,l) #s=s+r**3\n",
    "    n=n//10\n",
    "if(s==temp):\n",
    "    print(\"armstrong\",temp)\n",
    "else:\n",
    "    print(\"not\")"
   ]
  },
  {
   "cell_type": "code",
   "execution_count": null,
   "metadata": {},
   "outputs": [],
   "source": []
  }
 ],
 "metadata": {
  "kernelspec": {
   "display_name": "Python 3",
   "language": "python",
   "name": "python3"
  },
  "language_info": {
   "codemirror_mode": {
    "name": "ipython",
    "version": 3
   },
   "file_extension": ".py",
   "mimetype": "text/x-python",
   "name": "python",
   "nbconvert_exporter": "python",
   "pygments_lexer": "ipython3",
   "version": "3.7.4"
  }
 },
 "nbformat": 4,
 "nbformat_minor": 4
}
