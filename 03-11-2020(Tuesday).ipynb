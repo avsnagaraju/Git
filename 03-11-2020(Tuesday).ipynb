{
 "cells": [
  {
   "cell_type": "markdown",
   "metadata": {},
   "source": [
    "#Files:\n",
    " - To store data permanently\n",
    " - .txt,.doc,.csv,.py,.java,.c\n",
    " - open(),close()\n",
    " - with[doesnot have to close a file]\n",
    " - filepath,mode\n",
    " - mode:\n",
    "        - r ->read (filedoesnt exist in location it shows error)\n",
    "        - w ->write (file doesnt exist in location it automatically create performs an action. it removes previous data from a file& it appends the present data )\n",
    "        - a ->append (file doesnt exist in location it automatically creates a data .it performs an action.it doesnt removes previous data)\n",
    "        - x ->create (it creates a file in a location.if it exists with a name it doesnt create a file with the same name)\n",
    "        - with open(filepath,mode) as filepointer:\n",
    "                filepointer.actions"
   ]
  },
  {
   "cell_type": "code",
   "execution_count": 1,
   "metadata": {},
   "outputs": [
    {
     "name": "stdout",
     "output_type": "stream",
     "text": [
      "python\n"
     ]
    }
   ],
   "source": [
    "k = \"python\"\n",
    "print(k)"
   ]
  },
  {
   "cell_type": "markdown",
   "metadata": {},
   "source": [
    "'''\n",
    "\n",
    "filename:test-1.txt\n",
    "    Input:\n",
    "        Test case-1:\n",
    "            1 2\n",
    "            3\n",
    "            \n",
    "    Test case-2.txt\n",
    "    \n",
    "    \n",
    "    \n",
    "    \n",
    "    Your output: output.txt\n",
    "         3\n",
    "         9            \n",
    "      '''      "
   ]
  },
  {
   "cell_type": "code",
   "execution_count": 3,
   "metadata": {},
   "outputs": [],
   "source": [
    "with open(\"DataFiles/sample.text\",\"w\") as fw:\n",
    "    fw.write(\"welcome to APSSDC Internship Program\\nHi Good Morning\")"
   ]
  },
  {
   "cell_type": "code",
   "execution_count": 4,
   "metadata": {},
   "outputs": [
    {
     "name": "stdout",
     "output_type": "stream",
     "text": [
      "welcome to APSSDC Internship Program\n",
      "Hi Good Morning\n"
     ]
    }
   ],
   "source": [
    "with open(\"DataFiles/sample.text\",\"r\") as fr:\n",
    "    print(fr.read())"
   ]
  },
  {
   "cell_type": "code",
   "execution_count": 5,
   "metadata": {},
   "outputs": [
    {
     "name": "stdout",
     "output_type": "stream",
     "text": [
      "['_CHUNK_SIZE', '__class__', '__del__', '__delattr__', '__dict__', '__dir__', '__doc__', '__enter__', '__eq__', '__exit__', '__format__', '__ge__', '__getattribute__', '__getstate__', '__gt__', '__hash__', '__init__', '__init_subclass__', '__iter__', '__le__', '__lt__', '__ne__', '__new__', '__next__', '__reduce__', '__reduce_ex__', '__repr__', '__setattr__', '__sizeof__', '__str__', '__subclasshook__', '_checkClosed', '_checkReadable', '_checkSeekable', '_checkWritable', '_finalizing', 'buffer', 'close', 'closed', 'detach', 'encoding', 'errors', 'fileno', 'flush', 'isatty', 'line_buffering', 'mode', 'name', 'newlines', 'read', 'readable', 'readline', 'readlines', 'reconfigure', 'seek', 'seekable', 'tell', 'truncate', 'writable', 'write', 'write_through', 'writelines']\n"
     ]
    }
   ],
   "source": [
    "print(dir(fw))"
   ]
  },
  {
   "cell_type": "code",
   "execution_count": 5,
   "metadata": {},
   "outputs": [
    {
     "name": "stdout",
     "output_type": "stream",
     "text": [
      "welcome to APSSDC Internship Program\n",
      "\n"
     ]
    }
   ],
   "source": [
    "with open(\"DataFiles/sample.text\",\"r\") as fr:\n",
    "    print(fr.readline())"
   ]
  },
  {
   "cell_type": "code",
   "execution_count": 6,
   "metadata": {},
   "outputs": [],
   "source": [
    "with open(\"DataFiles/sample.text\",\"a\") as fa:\n",
    "    fa.write(\"\\nThis is sample line\")"
   ]
  },
  {
   "cell_type": "code",
   "execution_count": 7,
   "metadata": {},
   "outputs": [
    {
     "ename": "FileExistsError",
     "evalue": "[Errno 17] File exists: 'DataFiles/sample.text'",
     "output_type": "error",
     "traceback": [
      "\u001b[1;31m---------------------------------------------------------------------------\u001b[0m",
      "\u001b[1;31mFileExistsError\u001b[0m                           Traceback (most recent call last)",
      "\u001b[1;32m<ipython-input-7-ba2a810e292e>\u001b[0m in \u001b[0;36m<module>\u001b[1;34m\u001b[0m\n\u001b[1;32m----> 1\u001b[1;33m \u001b[1;32mwith\u001b[0m \u001b[0mopen\u001b[0m\u001b[1;33m(\u001b[0m\u001b[1;34m\"DataFiles/sample.text\"\u001b[0m\u001b[1;33m,\u001b[0m\u001b[1;34m\"x\"\u001b[0m\u001b[1;33m)\u001b[0m \u001b[1;32mas\u001b[0m \u001b[0mfx\u001b[0m\u001b[1;33m:\u001b[0m\u001b[1;33m\u001b[0m\u001b[1;33m\u001b[0m\u001b[0m\n\u001b[0m\u001b[0;32m      2\u001b[0m     \u001b[0mfx\u001b[0m\u001b[1;33m.\u001b[0m\u001b[0mwrite\u001b[0m\u001b[1;33m(\u001b[0m\u001b[1;34m\"\\nThis is sample line\"\u001b[0m\u001b[1;33m)\u001b[0m\u001b[1;33m\u001b[0m\u001b[1;33m\u001b[0m\u001b[0m\n",
      "\u001b[1;31mFileExistsError\u001b[0m: [Errno 17] File exists: 'DataFiles/sample.text'"
     ]
    }
   ],
   "source": [
    "with open(\"DataFiles/sample.text\",\"x\") as fx:\n",
    "    fx.write(\"\\nThis is sample line\")"
   ]
  },
  {
   "cell_type": "code",
   "execution_count": null,
   "metadata": {},
   "outputs": [],
   "source": [
    "Addition of 2 no.by using the files concept\n",
    "Input:Input.text\n",
    "    1 2\n",
    "    4 5\n",
    "    output: output.text\n",
    "        3\n",
    "        9\n",
    "     "
   ]
  },
  {
   "cell_type": "code",
   "execution_count": 1,
   "metadata": {},
   "outputs": [
    {
     "name": "stdout",
     "output_type": "stream",
     "text": [
      "4 5\n"
     ]
    }
   ],
   "source": [
    "with open(\"DataFiles/input.text\",\"w\") as faa:\n",
    "    k = input()\n",
    "    faa.write(k+\"\\n\")"
   ]
  },
  {
   "cell_type": "code",
   "execution_count": 2,
   "metadata": {},
   "outputs": [
    {
     "name": "stdout",
     "output_type": "stream",
     "text": [
      "3 5\n"
     ]
    }
   ],
   "source": [
    "with open(\"DataFiles/input.text\",\"w\") as faa:\n",
    "    k = input()\n",
    "    faa.write(k+\"\\n\")"
   ]
  },
  {
   "cell_type": "code",
   "execution_count": 3,
   "metadata": {},
   "outputs": [
    {
     "name": "stdout",
     "output_type": "stream",
     "text": [
      "['3 5\\n']\n"
     ]
    }
   ],
   "source": [
    "with open(\"DataFiles/Input.text\",\"r\") as frr:\n",
    "    print(frr.readlines())"
   ]
  },
  {
   "cell_type": "code",
   "execution_count": 6,
   "metadata": {},
   "outputs": [],
   "source": [
    "with open(\"DataFiles/Input.text\",\"r\") as frr:\n",
    "    p = frr.readlines()\n",
    "    m = \"\"\n",
    "    for i in p:\n",
    "        mn = i.split(\"\\n\")[0]\n",
    "        j = mn.split()\n",
    "        #print(mn[0].split())\n",
    "        with open(\"DataFiles/output.text\",\"w\") as fww:\n",
    "            s = int(j[0])+int(j[1])\n",
    "            m = m+str(s)+\"\\n\"\n",
    "#            print(s)\n",
    "            fww.write(m)"
   ]
  },
  {
   "cell_type": "code",
   "execution_count": 5,
   "metadata": {},
   "outputs": [
    {
     "name": "stdout",
     "output_type": "stream",
     "text": [
      "1 2 3 4\n",
      "1 2 3 4\n"
     ]
    }
   ],
   "source": [
    "e = input()\n",
    "print(e)"
   ]
  },
  {
   "cell_type": "code",
   "execution_count": 25,
   "metadata": {},
   "outputs": [
    {
     "name": "stdout",
     "output_type": "stream",
     "text": [
      "2\n",
      "0\n",
      "1\n"
     ]
    }
   ],
   "source": [
    "r = input()\n",
    "for i in range(int(r)):\n",
    "    print(i)"
   ]
  },
  {
   "cell_type": "markdown",
   "metadata": {},
   "source": [
    "input.text:\n",
    "    2 10\n",
    "    5 15\n",
    "    \n",
    "    output.text:\n",
    "        \n",
    "        2 table upto 10 rows\n",
    "        5 table upto 15 rows"
   ]
  },
  {
   "cell_type": "code",
   "execution_count": null,
   "metadata": {},
   "outputs": [],
   "source": []
  }
 ],
 "metadata": {
  "kernelspec": {
   "display_name": "Python 3",
   "language": "python",
   "name": "python3"
  },
  "language_info": {
   "codemirror_mode": {
    "name": "ipython",
    "version": 3
   },
   "file_extension": ".py",
   "mimetype": "text/x-python",
   "name": "python",
   "nbconvert_exporter": "python",
   "pygments_lexer": "ipython3",
   "version": "3.7.4"
  }
 },
 "nbformat": 4,
 "nbformat_minor": 4
}
