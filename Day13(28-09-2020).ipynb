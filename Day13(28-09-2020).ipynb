{
 "cells": [
  {
   "cell_type": "code",
   "execution_count": 10,
   "metadata": {},
   "outputs": [
    {
     "name": "stdout",
     "output_type": "stream",
     "text": [
      "enter a range:3\n",
      "enter a value:56\n",
      "enter a value:78\n",
      "enter a value:98\n",
      "[56, 78, 98]\n"
     ]
    }
   ],
   "source": [
    "# Dynamic list creation\n",
    "# li=[] or li=list() -->empty list\n",
    "# input:enter a range: 5\n",
    "#[1,2,3,4,67]\n",
    "li = []\n",
    "n = int(input(\"enter a range:\"))\n",
    "for i in range(n):\n",
    "    val = int(input(\"enter a value:\"))\n",
    "    li.append(val)                 #method to specify store values in list\n",
    "print(li)"
   ]
  },
  {
   "cell_type": "code",
   "execution_count": 13,
   "metadata": {},
   "outputs": [
    {
     "name": "stdout",
     "output_type": "stream",
     "text": [
      "enter a range:8\n",
      "enter values:12\n",
      "enter values:34\n",
      "enter values:44\n",
      "enter values:55\n",
      "enter values:75\n",
      "enter values:23\n",
      "enter values:456\n",
      "enter values:232\n",
      "[12, 34, 44, 55, 75, 23, 456, 232]\n"
     ]
    }
   ],
   "source": [
    "# li = [12,34,44,55,75,23,456,232]\n",
    "#o/p:[12,34,44,456,232]\n",
    "#printsum([12,34,44,456,232])\n",
    "li = []\n",
    "n = int(input(\"enter a range:\"))\n",
    "for i in range(n):\n",
    "    val = int(input(\"enter values:\"))\n",
    "    li.append(val)\n",
    "print(li)\n"
   ]
  },
  {
   "cell_type": "code",
   "execution_count": 26,
   "metadata": {},
   "outputs": [
    {
     "name": "stdout",
     "output_type": "stream",
     "text": [
      "[12, 34, 44, 456, 232]\n"
     ]
    }
   ],
   "source": [
    "li = [12,34,44,55,75,23,456,232]\n",
    "#o/p:[12,34,44,456,232]\n",
    "#printsum([12,34,44,456,232])\n",
    "eli = []\n",
    "for val in li:\n",
    "    if val%2==0:\n",
    "        eli.append(val)\n",
    "print(eli)"
   ]
  },
  {
   "cell_type": "code",
   "execution_count": 27,
   "metadata": {},
   "outputs": [
    {
     "name": "stdout",
     "output_type": "stream",
     "text": [
      "[12, 34, 44, 456, 232]\n",
      "778\n"
     ]
    }
   ],
   "source": [
    "li = [12,34,44,55,75,23,456,232]\n",
    "eli = []\n",
    "for val in li:\n",
    "    \n",
    "    if val%2==0:\n",
    "        eli.append(val)\n",
    "print(eli)\n",
    "sm=0\n",
    "for i in eli:\n",
    "    sm += i\n",
    "print(sm)"
   ]
  },
  {
   "cell_type": "code",
   "execution_count": 28,
   "metadata": {},
   "outputs": [
    {
     "name": "stdout",
     "output_type": "stream",
     "text": [
      "[12, 34, 44, 456, 232]\n",
      "778\n"
     ]
    }
   ],
   "source": [
    "li = [12,34,44,55,75,23,456,232]\n",
    "eli = []\n",
    "for val in li:\n",
    "    if val%2==0:\n",
    "        eli.append(val)\n",
    "print(eli)\n",
    "print(sum(eli))   #sum() is a predefined one"
   ]
  },
  {
   "cell_type": "markdown",
   "metadata": {},
   "source": [
    "### Remove the duplicate elements in a list\n",
    " - in registration we use it"
   ]
  },
  {
   "cell_type": "code",
   "execution_count": 36,
   "metadata": {},
   "outputs": [
    {
     "name": "stdout",
     "output_type": "stream",
     "text": [
      "11 22 11 25 36 36 11 25 "
     ]
    }
   ],
   "source": [
    "li = [11,22,11,22,25,23,25,36,39,42]\n",
    "for i in li:\n",
    "    print(i,end=\" \")"
   ]
  },
  {
   "cell_type": "code",
   "execution_count": 40,
   "metadata": {},
   "outputs": [
    {
     "name": "stdout",
     "output_type": "stream",
     "text": [
      "[11, 22, 25, 23, 39, 42]\n"
     ]
    }
   ],
   "source": [
    "li = [11,22,11,22,25,23,25,39,39,42]\n",
    "li2 = []\n",
    "for i in li:\n",
    "   # print(i,end=\" \")\n",
    "   if i not in li2:\n",
    "        li2.append(i)       #li2=[11,22,25,23,39,42]\n",
    "print(li2)"
   ]
  },
  {
   "cell_type": "code",
   "execution_count": null,
   "metadata": {},
   "outputs": [],
   "source": [
    "# print the even no. is assending order and print odd no. in descending order\n",
    "# [1,2,3,4,5,6,7,8,9]\n",
    "#o/p:[2,4,6,8,9,7,5,3,1]\n",
    "li = [1,2,3,4,5,6,7,8,9]\n",
    "for i in li:\n",
    "    "
   ]
  },
  {
   "cell_type": "code",
   "execution_count": 1,
   "metadata": {},
   "outputs": [],
   "source": [
    "def leap(year):\n",
    "    leap = False\n",
    "    if(year%400==0):\n",
    "        return leap\n",
    "    year = int(input())\n",
    "    #print leap(year)"
   ]
  },
  {
   "cell_type": "code",
   "execution_count": 3,
   "metadata": {},
   "outputs": [
    {
     "data": {
      "text/plain": [
       "<function __main__.leap(year)>"
      ]
     },
     "execution_count": 3,
     "metadata": {},
     "output_type": "execute_result"
    }
   ],
   "source": [
    "leap"
   ]
  },
  {
   "cell_type": "code",
   "execution_count": null,
   "metadata": {},
   "outputs": [],
   "source": []
  }
 ],
 "metadata": {
  "kernelspec": {
   "display_name": "Python 3",
   "language": "python",
   "name": "python3"
  },
  "language_info": {
   "codemirror_mode": {
    "name": "ipython",
    "version": 3
   },
   "file_extension": ".py",
   "mimetype": "text/x-python",
   "name": "python",
   "nbconvert_exporter": "python",
   "pygments_lexer": "ipython3",
   "version": "3.7.4"
  }
 },
 "nbformat": 4,
 "nbformat_minor": 4
}
