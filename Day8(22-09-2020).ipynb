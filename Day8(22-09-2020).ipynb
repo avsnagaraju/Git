{
 "cells": [
  {
   "cell_type": "markdown",
   "metadata": {},
   "source": [
    "- To check whether a given no. is + or - n0\n",
    "  - first u have to read a no. from user\n",
    "  - then write logic to check that no. is + or not\n",
    " - To check wheather given no. is even or not?"
   ]
  },
  {
   "cell_type": "code",
   "execution_count": 2,
   "metadata": {},
   "outputs": [
    {
     "name": "stdout",
     "output_type": "stream",
     "text": [
      "enter n value0\n",
      "given no. is positive\n"
     ]
    }
   ],
   "source": [
    "n = int(input(\"enter n value:\"))\n",
    "if(n>=0):\n",
    "    print(\"given no. is positive\")\n",
    "else:\n",
    "    print(\"given no. is negative\")"
   ]
  },
  {
   "cell_type": "code",
   "execution_count": 4,
   "metadata": {},
   "outputs": [
    {
     "name": "stdout",
     "output_type": "stream",
     "text": [
      "enter n value:57\n",
      "not even\n"
     ]
    }
   ],
   "source": [
    "n = int(input(\"enter n value:\"))\n",
    "if(n%2==0):\n",
    "    print(\"even\")\n",
    "else:\n",
    "    print(\"not even\")"
   ]
  },
  {
   "cell_type": "code",
   "execution_count": 32,
   "metadata": {},
   "outputs": [
    {
     "name": "stdout",
     "output_type": "stream",
     "text": [
      "Enter a year: 2000\n",
      "2000 is a leap year\n"
     ]
    }
   ],
   "source": [
    "year = int(input(\"Enter a year: \"))  \n",
    "if (year % 4) == 0:  \n",
    "    if (year % 100) == 0:  \n",
    "        if (year % 400) == 0:  \n",
    "            print(\"{0} is a leap year\".format(year))  \n",
    "        else:  \n",
    "            print(\"{0} is not a leap year\".format(year))  \n",
    "    else:\n",
    "        print(\"{0} is a leap year\".format(year))  \n",
    "else:  \n",
    "    print(\"{0} is not a leap year\".format(year))  "
   ]
  },
  {
   "cell_type": "markdown",
   "metadata": {},
   "source": [
    "   - To check wheather given year is leap year or not?\n",
    "    - To check wheather given character is vowel or consonant?\n",
    "    - To check wheather given two values are eqaul or not?\n",
    "     - To find biggest of two numbers?\n",
    "        - To find the biggest of three numbers?\n",
    "        - To calculate the student grading system?\n",
    "    - To print the 1 to n natural numbers in increment order?\n",
    "    - To print the 1 to n natural numbers in decrement order?\n",
    "    - To print the sum of 1 to n natural numbers?\n",
    "    - To print the even numbers between 1 to n natural numbers?\n",
    "    - To print the odd numbers between 1 to n natural numbers?\n",
    "    - To print the sum of even natural numbers?\n",
    "    - To print the sum of odd natural numbers?\n"
   ]
  },
  {
   "cell_type": "code",
   "execution_count": 17,
   "metadata": {},
   "outputs": [
    {
     "name": "stdout",
     "output_type": "stream",
     "text": [
      "5\n",
      "7\n",
      "not equal\n"
     ]
    }
   ],
   "source": [
    "a=int(input())\n",
    "b=int(input())\n",
    "if(a==b):\n",
    "    print(\"equal\")\n",
    "else:\n",
    "    print(\"not equal\")"
   ]
  },
  {
   "cell_type": "code",
   "execution_count": 26,
   "metadata": {},
   "outputs": [
    {
     "name": "stdout",
     "output_type": "stream",
     "text": [
      "Enter a character: v\n"
     ]
    }
   ],
   "source": [
    "ch = input(\"Enter a character: \")\n",
    "def char():\n",
    "    if(ch=='A' or ch=='a' or ch=='E' or ch =='e' or ch=='I'\n",
    " or ch=='i' or ch=='O' or ch=='o' or ch=='U' or ch=='u'):\n",
    "        print(ch, \"is a Vowel\")\n",
    "    else:\n",
    "            print(ch, \"is a Consonant\")"
   ]
  },
  {
   "cell_type": "code",
   "execution_count": 27,
   "metadata": {},
   "outputs": [
    {
     "name": "stdout",
     "output_type": "stream",
     "text": [
      "v is a Consonant\n"
     ]
    }
   ],
   "source": [
    "char()"
   ]
  },
  {
   "cell_type": "code",
   "execution_count": 1,
   "metadata": {},
   "outputs": [
    {
     "name": "stdout",
     "output_type": "stream",
     "text": [
      "Enter the first number: 5\n",
      "Enter the second number: 7\n",
      "Enter the Third number: 9\n"
     ]
    }
   ],
   "source": [
    "n1=int(input(\"Enter the first number: \"));\n",
    "n2=int(input(\"Enter the second number: \"));\n",
    "n3=int(input(\"Enter the Third number: \"));\n",
    "def find_Biggest():      \n",
    "    if(n1>=n2) and (n1>=n2):\n",
    "        big=n1\n",
    "    elif(n2>=n1) and (n2>=n3):\n",
    "        big=n2\n",
    "    else:\n",
    "        big=n3\n",
    "        print(\"big number is:\",big)"
   ]
  },
  {
   "cell_type": "code",
   "execution_count": 2,
   "metadata": {},
   "outputs": [
    {
     "name": "stdout",
     "output_type": "stream",
     "text": [
      "big number is: 9\n"
     ]
    }
   ],
   "source": [
    "find_Biggest()"
   ]
  },
  {
   "cell_type": "code",
   "execution_count": 21,
   "metadata": {},
   "outputs": [
    {
     "name": "stdout",
     "output_type": "stream",
     "text": [
      "5\n",
      "9\n"
     ]
    }
   ],
   "source": [
    "a=int(input())\n",
    "b=int(input())\n",
    "def two():\n",
    "    if(a>=b):\n",
    "        print(\"A is Big\")\n",
    "    else:\n",
    "        print(\"B is Big\")"
   ]
  },
  {
   "cell_type": "code",
   "execution_count": 22,
   "metadata": {},
   "outputs": [
    {
     "name": "stdout",
     "output_type": "stream",
     "text": [
      "B is Big\n"
     ]
    }
   ],
   "source": [
    "two()"
   ]
  },
  {
   "cell_type": "code",
   "execution_count": 32,
   "metadata": {},
   "outputs": [
    {
     "name": "stdout",
     "output_type": "stream",
     "text": [
      "-9999\n",
      "False\n"
     ]
    }
   ],
   "source": [
    "def ispositive(n):\n",
    "    if n>=0:\n",
    "        return True\n",
    "    else:\n",
    "        return False\n",
    "a = int(input())\n",
    "rs = ispositive(a)\n",
    "print(rs)"
   ]
  },
  {
   "cell_type": "code",
   "execution_count": 51,
   "metadata": {},
   "outputs": [
    {
     "name": "stdout",
     "output_type": "stream",
     "text": [
      "56\n",
      "True\n"
     ]
    }
   ],
   "source": [
    "def iseven(n1):\n",
    "    if n1%2==0:\n",
    "        return True\n",
    "    else:\n",
    "        return False\n",
    "n = int(input())\n",
    "rs = iseven(n)\n",
    "print(rs)"
   ]
  },
  {
   "cell_type": "code",
   "execution_count": 53,
   "metadata": {},
   "outputs": [
    {
     "name": "stdout",
     "output_type": "stream",
     "text": [
      "enter a range:10\n",
      "30\n"
     ]
    }
   ],
   "source": [
    "# To print the sum of even natural numbers?\n",
    "#n = int(input(\"enter a range:\"))\n",
    "#sm = 0\n",
    "#for i in range(2,n+1):\n",
    "  #  if iseven(i):            #calling even fun() above\n",
    " #       sm+=i\n",
    "#print(sm)\n",
    "\n",
    "# To print the sum of even natural numbers?\n",
    "num = int(input(\"enter a range:\"))\n",
    "sm = 0\n",
    "for i in range(2,num+1):\n",
    "    if iseven(i):\n",
    "        sm += i\n",
    "    \n",
    "print(sm)"
   ]
  },
  {
   "cell_type": "code",
   "execution_count": 54,
   "metadata": {},
   "outputs": [
    {
     "name": "stdout",
     "output_type": "stream",
     "text": [
      "enter a range:10\n",
      "1\n",
      "4\n",
      "9\n",
      "16\n",
      "25\n"
     ]
    }
   ],
   "source": [
    "# to print odd natural numbers?\n",
    "n = int(input(\"enter a range:\"))\n",
    "sm = 0\n",
    "for i in range(1,n+1):\n",
    "    if iseven(i): #calling even fun() above\n",
    "        pass\n",
    "    else:\n",
    "        sm+=i\n",
    "        print(sm)    "
   ]
  },
  {
   "cell_type": "code",
   "execution_count": 55,
   "metadata": {},
   "outputs": [
    {
     "name": "stdout",
     "output_type": "stream",
     "text": [
      "enter a range:10\n",
      "25\n"
     ]
    }
   ],
   "source": [
    "n = int(input(\"enter a range:\"))\n",
    "sm = 0\n",
    "for i in range(1,n+1):\n",
    "    if iseven(i): \n",
    "        continue\n",
    "    else:\n",
    "         sm+=i\n",
    "            \n",
    "print(sm)    "
   ]
  },
  {
   "cell_type": "code",
   "execution_count": 57,
   "metadata": {},
   "outputs": [
    {
     "name": "stdout",
     "output_type": "stream",
     "text": [
      "10\n",
      "55\n"
     ]
    }
   ],
   "source": [
    "#To print sum of n natural no.\n",
    "#def sumOfNNaturalNums(n):   #functionname should be start small\n",
    " #   sum = 0\n",
    "  #  for i in range(1,n+1):\n",
    "   #     sum += i\n",
    "    #    return sum\n",
    "    #\n",
    "#num=int(input())\n",
    "#rs = sumOfNNaturalNums(num)\n",
    "#print(rs)\n",
    "\n",
    "def sumOfNNaturalNums(n):\n",
    "    sm = 0\n",
    "    for i in range(1,n+1):\n",
    "        sm += i\n",
    "    return sm\n",
    "    \n",
    "num = int(input())\n",
    "rs = sumOfNNaturalNums(num)\n",
    "print(rs)"
   ]
  },
  {
   "cell_type": "code",
   "execution_count": 58,
   "metadata": {},
   "outputs": [
    {
     "name": "stdout",
     "output_type": "stream",
     "text": [
      "5\n",
      "120\n"
     ]
    }
   ],
   "source": [
    "# To print the product of n natural numbers?\n",
    "#def productOfNNaturalNums(n):\n",
    " #   sum = 1\n",
    "  #  for i in range(1,n+1):\n",
    "   #     sum *= i\n",
    "    #     return sum\n",
    "    \n",
    "    \n",
    "#num=int(input())\n",
    "#rs = productOfNNaturalNums(num)\n",
    "#print(rs)          #o/p is 120\n",
    "\n",
    "def productOfNNaturalNums(n):\n",
    "    sm = 1\n",
    "    for i in range(1,n+1):\n",
    "        sm *= i\n",
    "    return sm\n",
    "    \n",
    "num = int(input())\n",
    "rs = productOfNNaturalNums(num)\n",
    "print(rs)"
   ]
  },
  {
   "cell_type": "code",
   "execution_count": 3,
   "metadata": {},
   "outputs": [
    {
     "name": "stdout",
     "output_type": "stream",
     "text": [
      "1999\n",
      "not a Leap year\n"
     ]
    }
   ],
   "source": [
    "year = int(input())\n",
    "if(year%4==0):\n",
    "    print(\"Leap year\")\n",
    "else:\n",
    "    print(\"not a Leap year\")"
   ]
  },
  {
   "cell_type": "code",
   "execution_count": 12,
   "metadata": {},
   "outputs": [
    {
     "name": "stdout",
     "output_type": "stream",
     "text": [
      "a\n",
      "ch is vowel\n"
     ]
    }
   ],
   "source": [
    "li = ['a','e','i','o','u','A','E','I','O','U']\n",
    "ch = input()\n",
    "if ch in li:\n",
    "       print(\"ch is vowel\")   \n",
    "else:\n",
    "        print(\"ch is constant\")"
   ]
  },
  {
   "cell_type": "code",
   "execution_count": 11,
   "metadata": {},
   "outputs": [
    {
     "name": "stdout",
     "output_type": "stream",
     "text": [
      "y\n",
      "False\n"
     ]
    }
   ],
   "source": [
    "li = ['a','e','i','o','u','A','E','I','O','U']\n",
    "def isVowel(ch):\n",
    "    if ch in li:\n",
    "        return True\n",
    "    else:\n",
    "        return False\n",
    "ch = input()\n",
    "print(isVowel(ch))"
   ]
  },
  {
   "cell_type": "code",
   "execution_count": 3,
   "metadata": {},
   "outputs": [
    {
     "name": "stdout",
     "output_type": "stream",
     "text": [
      "Enter marks of the first subject: 25\n",
      "Enter marks of the second subject: 26\n",
      "Enter marks of the third subject: 29\n",
      "Enter marks of the fourth subject: 30\n",
      "Enter marks of the fifth subject: 28\n",
      "Grade: Fail\n"
     ]
    }
   ],
   "source": [
    "#To calculate the student grading system?\n",
    "sub1=int(input(\"Enter marks of the first subject: \"))\n",
    "sub2=int(input(\"Enter marks of the second subject: \"))\n",
    "sub3=int(input(\"Enter marks of the third subject: \"))\n",
    "sub4=int(input(\"Enter marks of the fourth subject: \"))\n",
    "sub5=int(input(\"Enter marks of the fifth subject: \"))\n",
    "avg=(sub1+sub2+sub3+sub4+sub5)/5\n",
    "if(avg>=90):\n",
    "    print(\"Grade: A\")\n",
    "elif(avg>=80 and avg<90):\n",
    "    print(\"Grade: B\")\n",
    "elif(avg>=70 and avg<80):\n",
    "    print(\"Grade: C\")\n",
    "elif(avg>=60 and avg<70):\n",
    "    print(\"Grade: D\")\n",
    "else:\n",
    "    print(\"Grade: Fail\")"
   ]
  },
  {
   "cell_type": "code",
   "execution_count": 64,
   "metadata": {},
   "outputs": [
    {
     "ename": "IndentationError",
     "evalue": "unexpected indent (<ipython-input-64-b43d07a46513>, line 4)",
     "output_type": "error",
     "traceback": [
      "\u001b[1;36m  File \u001b[1;32m\"<ipython-input-64-b43d07a46513>\"\u001b[1;36m, line \u001b[1;32m4\u001b[0m\n\u001b[1;33m    elif(marks>=65) and (marks<80):\u001b[0m\n\u001b[1;37m    ^\u001b[0m\n\u001b[1;31mIndentationError\u001b[0m\u001b[1;31m:\u001b[0m unexpected indent\n"
     ]
    }
   ],
   "source": [
    "marks = int(input())\n",
    "if ((marks>=90) and (marks<100)):\n",
    "    print(\"Clever Student\")\n",
    "    elif(marks>=65) and (marks<80):\n",
    "        print(\"Good\")\n",
    "        elif((marks>=50) and (marks<64)):\n",
    "            print(\"Avg\")\n",
    "            elif((marks>=34) and (marks<49)):\n",
    "                print(\"D\")\n",
    "                else:\n",
    "                    print(\"F\")"
   ]
  },
  {
   "cell_type": "code",
   "execution_count": null,
   "metadata": {},
   "outputs": [],
   "source": []
  },
  {
   "cell_type": "code",
   "execution_count": null,
   "metadata": {},
   "outputs": [],
   "source": []
  }
 ],
 "metadata": {
  "kernelspec": {
   "display_name": "Python 3",
   "language": "python",
   "name": "python3"
  },
  "language_info": {
   "codemirror_mode": {
    "name": "ipython",
    "version": 3
   },
   "file_extension": ".py",
   "mimetype": "text/x-python",
   "name": "python",
   "nbconvert_exporter": "python",
   "pygments_lexer": "ipython3",
   "version": "3.7.4"
  }
 },
 "nbformat": 4,
 "nbformat_minor": 4
}
