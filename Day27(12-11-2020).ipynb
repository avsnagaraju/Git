{
 "cells": [
  {
   "cell_type": "markdown",
   "metadata": {},
   "source": [
    "## OOP'S::Object Oriented Programming):\n",
    "- here we will split a large program into sub parts\n",
    "- use of this oop's is:hiding datalike objects\n",
    "- it will-oops provide better security\n",
    "### properties:\n",
    "- class\n",
    "- object\n",
    "- method\n",
    "- polymorphism\n",
    "- abstraction\n"
   ]
  },
  {
   "cell_type": "markdown",
   "metadata": {},
   "source": [
    "### class:\n",
    "- class is a blue print of the object\n",
    "- class is a collection of member (objects) variables and member (methods)functions.\n",
    "syntax:\n",
    "'''class class_name:\n",
    "     member variables\n",
    "     member functions\n",
    "'''\n",
    "### rules for defining a class:\n",
    "- first letter is capital or class name should starts with caps\n",
    "- should use a class keyword\n",
    "- should not contain spaces\n",
    "- the class name should not be started with numbers"
   ]
  },
  {
   "cell_type": "code",
   "execution_count": 2,
   "metadata": {},
   "outputs": [
    {
     "name": "stdout",
     "output_type": "stream",
     "text": [
      "<class 'int'>\n"
     ]
    }
   ],
   "source": [
    "a = 10\n",
    "print(type(a))"
   ]
  },
  {
   "cell_type": "markdown",
   "metadata": {},
   "source": [
    "# functions and methods\n",
    "- in oops functions are called as methods\n",
    "\n",
    "'''def add():\n",
    "    return 4+5\n",
    "\n",
    "\n",
    "class Hello:\n",
    "    def add():\n",
    "        return 4+5'''"
   ]
  },
  {
   "cell_type": "code",
   "execution_count": 10,
   "metadata": {},
   "outputs": [
    {
     "name": "stdout",
     "output_type": "stream",
     "text": [
      "avsyadav\n",
      "5\n",
      "I am from printInfo()\n",
      "None\n"
     ]
    }
   ],
   "source": [
    "class MyInfo:\n",
    "    name = \"avsyadav\"\n",
    "    rollno = 5\n",
    "    \n",
    "    def printInfo():\n",
    "        #print(name,' ',rollno)\n",
    "        print(\"I am from printInfo()\")\n",
    "        \n",
    "print(MyInfo.name)\n",
    "print(MyInfo.rollno)\n",
    "print(MyInfo.printInfo())"
   ]
  },
  {
   "cell_type": "markdown",
   "metadata": {},
   "source": [
    "## Object:\n",
    "- instance of a class\n",
    "- real time entity\n",
    "'''\n",
    "object_name = class_name\n",
    "'''"
   ]
  },
  {
   "cell_type": "code",
   "execution_count": 13,
   "metadata": {},
   "outputs": [
    {
     "name": "stdout",
     "output_type": "stream",
     "text": [
      "avsyadav\n",
      "5\n",
      "<function MyInfo.printInfo at 0x0000024201E72438>\n",
      "I am from printInfo()\n",
      "None\n"
     ]
    }
   ],
   "source": [
    "class MyInfo:\n",
    "    name = \"avsyadav\"\n",
    "    rollno = 5\n",
    "    \n",
    "    def printInfo():\n",
    "        #print(name,' ',rollno)\n",
    "        print(\"I am from printInfo()\")\n",
    "obj = MyInfo\n",
    "print(obj.name)\n",
    "print(obj.rollno)\n",
    "print(obj.printInfo) # it is  a function\n",
    "print(obj.printInfo())"
   ]
  },
  {
   "cell_type": "code",
   "execution_count": 24,
   "metadata": {},
   "outputs": [
    {
     "name": "stdout",
     "output_type": "stream",
     "text": [
      "11\n",
      "\n",
      "    hi welcome to MyMath class,\n",
      "    here we implementing add() for that add u have to pass 2 para\n",
      "    \n"
     ]
    }
   ],
   "source": [
    "class MyMath:\n",
    "    '''\n",
    "    hi welcome to MyMath class,\n",
    "    here we implementing add() for that add u have to pass 2 para\n",
    "    '''\n",
    "    \n",
    "    def add(n1, n2):  # give space after n1,\n",
    "        return n1 + n2  # give spaceafter,before of +\n",
    "    \n",
    "obj = MyMath\n",
    "print(obj.add(5,6))\n",
    "print(obj.__doc__)"
   ]
  },
  {
   "cell_type": "code",
   "execution_count": 25,
   "metadata": {},
   "outputs": [
    {
     "name": "stdout",
     "output_type": "stream",
     "text": [
      "-6\n"
     ]
    }
   ],
   "source": [
    "class MyMath():\n",
    "    \n",
    "    def sub(n1, n2):\n",
    "        return n1 - n2\n",
    "obj = MyMath\n",
    "print(obj.sub(5,11))"
   ]
  },
  {
   "cell_type": "code",
   "execution_count": 26,
   "metadata": {},
   "outputs": [
    {
     "name": "stdout",
     "output_type": "stream",
     "text": [
      "16\n"
     ]
    }
   ],
   "source": [
    "class MyMath():\n",
    "    \n",
    "    def pow(n1, n2):\n",
    "        return n1 ** n2\n",
    "obj = MyMath\n",
    "print(obj.pow(4,2))"
   ]
  },
  {
   "cell_type": "code",
   "execution_count": 29,
   "metadata": {},
   "outputs": [
    {
     "name": "stdout",
     "output_type": "stream",
     "text": [
      "100.0\n"
     ]
    }
   ],
   "source": [
    "class MyMath():\n",
    "    \n",
    "    def div(n1, n2):\n",
    "        return n1 / n2\n",
    "obj = MyMath\n",
    "print(obj.div(1100,11))"
   ]
  },
  {
   "cell_type": "code",
   "execution_count": 30,
   "metadata": {},
   "outputs": [
    {
     "name": "stdout",
     "output_type": "stream",
     "text": [
      "100\n"
     ]
    }
   ],
   "source": [
    "class MyMath():\n",
    "    \n",
    "    def div(n1, n2):\n",
    "        return n1 // n2\n",
    "obj = MyMath\n",
    "print(obj.div(1100,11))"
   ]
  },
  {
   "cell_type": "code",
   "execution_count": 34,
   "metadata": {},
   "outputs": [
    {
     "ename": "TypeError",
     "evalue": "add() takes 2 positional arguments but 3 were given",
     "output_type": "error",
     "traceback": [
      "\u001b[1;31m---------------------------------------------------------------------------\u001b[0m",
      "\u001b[1;31mTypeError\u001b[0m                                 Traceback (most recent call last)",
      "\u001b[1;32m<ipython-input-34-ff124e17bff8>\u001b[0m in \u001b[0;36m<module>\u001b[1;34m\u001b[0m\n\u001b[0;32m      9\u001b[0m \u001b[1;33m\u001b[0m\u001b[0m\n\u001b[0;32m     10\u001b[0m \u001b[0mobj\u001b[0m \u001b[1;33m=\u001b[0m \u001b[0mMyMath\u001b[0m\u001b[1;33m(\u001b[0m\u001b[1;33m)\u001b[0m\u001b[1;33m\u001b[0m\u001b[1;33m\u001b[0m\u001b[0m\n\u001b[1;32m---> 11\u001b[1;33m \u001b[0mprint\u001b[0m\u001b[1;33m(\u001b[0m\u001b[0mobj\u001b[0m\u001b[1;33m.\u001b[0m\u001b[0madd\u001b[0m\u001b[1;33m(\u001b[0m\u001b[1;36m5\u001b[0m\u001b[1;33m,\u001b[0m\u001b[1;36m6\u001b[0m\u001b[1;33m)\u001b[0m\u001b[1;33m)\u001b[0m\u001b[1;33m\u001b[0m\u001b[1;33m\u001b[0m\u001b[0m\n\u001b[0m",
      "\u001b[1;31mTypeError\u001b[0m: add() takes 2 positional arguments but 3 were given"
     ]
    }
   ],
   "source": [
    "class MyMath():\n",
    "    '''\n",
    "    hi welcome to MyMath class,\n",
    "    here we implementing add() for that add u have to pass 2 para\n",
    "    '''\n",
    "    \n",
    "    def add(n1, n2):  # give space after n1,\n",
    "        return n1 + n2  # give spaceafter,before of +\n",
    "    \n",
    "obj = MyMath()\n",
    "print(obj.add(5,6))\n"
   ]
  },
  {
   "cell_type": "markdown",
   "metadata": {},
   "source": [
    "## Constructor:\n",
    "- without using object we will call constructor method(when obj is created)\n",
    "- for creating constructor:\n",
    " - in python __init__(self) method will work as a constructor\n",
    "      - default constructor,parameter\n",
    "   "
   ]
  },
  {
   "cell_type": "code",
   "execution_count": 36,
   "metadata": {},
   "outputs": [
    {
     "name": "stdout",
     "output_type": "stream",
     "text": [
      "11\n",
      "-1\n",
      "30\n"
     ]
    }
   ],
   "source": [
    "class MyMath():  # in this we allocate more memories\n",
    "    '''\n",
    "    hi welcome to MyMath class,\n",
    "    here we implementing add() for that add u have to pass 2 para\n",
    "    '''\n",
    "    \n",
    "    def add(n1, n2):  \n",
    "        return n1 + n2\n",
    "    def sub(n1, n2):  \n",
    "        return n1 - n2  \n",
    "    def mul(n1, n2):  \n",
    "        return n1 * n2  \n",
    "    \n",
    "    \n",
    "obj = MyMath      # if we mentined () then we get error\n",
    "print(obj.add(5,6))\n",
    "print(obj.sub(5,6))\n",
    "print(obj.mul(5,6))"
   ]
  },
  {
   "cell_type": "code",
   "execution_count": 46,
   "metadata": {},
   "outputs": [
    {
     "name": "stdout",
     "output_type": "stream",
     "text": [
      "5   9\n",
      "14\n",
      "-4\n"
     ]
    }
   ],
   "source": [
    "class MyMath(): # in this we allocate only one memory location to it\n",
    "    \n",
    "    '''\n",
    "    hi welcome to MyMath class,\n",
    "    here we implementing add() for that add u have to pass 2 para\n",
    "    '''\n",
    "    def __init__(self,n1,n2):\n",
    "        self.n1 = n1            # self acts like this keyword in java\n",
    "        self.n2 = n2\n",
    "        print(self.n1,' ',self.n2)\n",
    "        \n",
    "    def add(self):\n",
    "        return self.n1 + self.n2\n",
    "    def sub(self):\n",
    "        return self.n1 - self.n2\n",
    "   \n",
    "   \n",
    "    \n",
    "obj = MyMath(5,9)\n",
    "print(obj.add())\n",
    "print(obj.sub())"
   ]
  },
  {
   "cell_type": "code",
   "execution_count": null,
   "metadata": {},
   "outputs": [],
   "source": []
  }
 ],
 "metadata": {
  "kernelspec": {
   "display_name": "Python 3",
   "language": "python",
   "name": "python3"
  },
  "language_info": {
   "codemirror_mode": {
    "name": "ipython",
    "version": 3
   },
   "file_extension": ".py",
   "mimetype": "text/x-python",
   "name": "python",
   "nbconvert_exporter": "python",
   "pygments_lexer": "ipython3",
   "version": "3.7.4"
  }
 },
 "nbformat": 4,
 "nbformat_minor": 4
}
