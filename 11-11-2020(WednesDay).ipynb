{
 "cells": [
  {
   "cell_type": "markdown",
   "metadata": {},
   "source": [
    "## Functional arguments:\n",
    "      -> function?\n",
    "      ->types[user-defined,predefined]\n",
    "      ->user-Defined[4 types->c language]\n",
    "      ->Arguments passing -> 4 types\n",
    "                          -> required arguments -> arguments(*)\n",
    "                          -> default arguments -> arguments(value=>?,function call=>?)\n",
    "                          -> keyword arguments -> arguments(function call,cllng->variable -- equal values\n",
    "                          ->variable length arguments -> arguments(value->value to variable,n number of values->(iterator in function call,function=>[*tuple,**dictionary]\n"
   ]
  },
  {
   "cell_type": "code",
   "execution_count": null,
   "metadata": {},
   "outputs": [],
   "source": [
    "'''\n",
    "Anonymous function or functional programming:\n",
    " -> Lambda -> anonymous function(keyword doesnot use in this function creation)\n",
    " -> it can be applicable for all mathematical expressions\n",
    " -> Lambda cant use def key word.it can be used in large app.. to reduce the code\n",
    "    It can be implemented to a comprehension or looping.\n",
    "     -> It can be divided into 3 types :\n",
    "     -> map\n",
    "     -> filter\n",
    "     ->reduce\n",
    "     \n",
    "'''"
   ]
  },
  {
   "cell_type": "code",
   "execution_count": null,
   "metadata": {},
   "outputs": [],
   "source": [
    "function syntax:\n",
    "def function_name(arguments):\n",
    "    '''Function doc_string'''\n",
    "    //stmts\n",
    "    return return_value\n",
    "Lambda syntax:\n",
    "    lambda arguments:expression"
   ]
  },
  {
   "cell_type": "code",
   "execution_count": 2,
   "metadata": {},
   "outputs": [
    {
     "name": "stdout",
     "output_type": "stream",
     "text": [
      "4 5\n",
      "['4', '5']\n"
     ]
    }
   ],
   "source": [
    "def add(a,b):\n",
    "    return a+b\n",
    "m = input().split()\n",
    "print(m)"
   ]
  },
  {
   "cell_type": "code",
   "execution_count": 2,
   "metadata": {},
   "outputs": [
    {
     "name": "stdout",
     "output_type": "stream",
     "text": [
      "4\n",
      "5\n",
      "9\n"
     ]
    }
   ],
   "source": [
    "def add(a,b):\n",
    "    return a+b\n",
    "m = int(input())\n",
    "n = int(input())\n",
    "print(add(n,m))"
   ]
  },
  {
   "cell_type": "code",
   "execution_count": 1,
   "metadata": {},
   "outputs": [
    {
     "name": "stdout",
     "output_type": "stream",
     "text": [
      "7\n"
     ]
    }
   ],
   "source": [
    "d = lambda a,b:a+b\n",
    "print(d(2,5))"
   ]
  },
  {
   "cell_type": "code",
   "execution_count": 5,
   "metadata": {},
   "outputs": [
    {
     "name": "stdout",
     "output_type": "stream",
     "text": [
      "6\n",
      "4\n",
      "10\n"
     ]
    }
   ],
   "source": [
    "d = lambda a,b:a+b\n",
    "print(d(int(input()),int(input())))"
   ]
  },
  {
   "cell_type": "code",
   "execution_count": 6,
   "metadata": {},
   "outputs": [
    {
     "name": "stdout",
     "output_type": "stream",
     "text": [
      "3\n",
      "7\n",
      "20\n"
     ]
    }
   ],
   "source": [
    "d = lambda a,b:a+b+10\n",
    "print(d(int(input()),int(input())))"
   ]
  },
  {
   "cell_type": "code",
   "execution_count": 7,
   "metadata": {},
   "outputs": [
    {
     "name": "stdout",
     "output_type": "stream",
     "text": [
      "2\n",
      "1\n",
      "9\n"
     ]
    }
   ],
   "source": [
    "d = lambda a,b:a**2+b**2+2*a*b        # 2x2=4,2x2=4,2x1=1\n",
    "print(d(int(input()),int(input())))"
   ]
  },
  {
   "cell_type": "code",
   "execution_count": null,
   "metadata": {},
   "outputs": [],
   "source": [
    "'''\n",
    "Map:\n",
    "  -> it can be used to change the data type of an iterator\n",
    "  -> syntax:\n",
    "     map(function,iterator) or map(datatype,iterator)\n",
    "     ->In map it outputs as either  True or False\n",
    "'''"
   ]
  },
  {
   "cell_type": "code",
   "execution_count": 8,
   "metadata": {},
   "outputs": [
    {
     "name": "stdout",
     "output_type": "stream",
     "text": [
      "4 5 6 7 8\n",
      "[4, 5, 6, 7, 8]\n"
     ]
    }
   ],
   "source": [
    "s = input().split()\n",
    "r = []\n",
    "for i in s:\n",
    "    r.append(int(i))\n",
    "print(r)"
   ]
  },
  {
   "cell_type": "code",
   "execution_count": 9,
   "metadata": {},
   "outputs": [
    {
     "name": "stdout",
     "output_type": "stream",
     "text": [
      "4 5 3 2\n",
      "['4', '5', '3', '2']\n"
     ]
    }
   ],
   "source": [
    "t = input().split()\n",
    "print(t)"
   ]
  },
  {
   "cell_type": "code",
   "execution_count": 10,
   "metadata": {},
   "outputs": [
    {
     "name": "stdout",
     "output_type": "stream",
     "text": [
      "4 5 6 7 8\n",
      "['4', '5', '6', '7', '8']\n"
     ]
    },
    {
     "data": {
      "text/plain": [
       "<map at 0x1bfbe74b348>"
      ]
     },
     "execution_count": 10,
     "metadata": {},
     "output_type": "execute_result"
    }
   ],
   "source": [
    "t = input().split()\n",
    "print(t)\n",
    "map(int,t)"
   ]
  },
  {
   "cell_type": "code",
   "execution_count": 11,
   "metadata": {},
   "outputs": [
    {
     "name": "stdout",
     "output_type": "stream",
     "text": [
      "4 5 6 7 8\n",
      "['4', '5', '6', '7', '8']\n",
      "(4, 5, 6, 7, 8)\n"
     ]
    }
   ],
   "source": [
    "t = input().split()\n",
    "print(t)\n",
    "print(tuple(map(int,t)))"
   ]
  },
  {
   "cell_type": "code",
   "execution_count": 12,
   "metadata": {},
   "outputs": [
    {
     "name": "stdout",
     "output_type": "stream",
     "text": [
      "5 6 7 8\n",
      "5 6 8 7\n",
      "[5, 6, 8, 7]\n"
     ]
    }
   ],
   "source": [
    "t = input().split()\n",
    "print(list(map(int,input().split())))"
   ]
  },
  {
   "cell_type": "code",
   "execution_count": 13,
   "metadata": {},
   "outputs": [
    {
     "name": "stdout",
     "output_type": "stream",
     "text": [
      "4 5 6 78\n",
      "[4, 5, 6, 78]\n"
     ]
    }
   ],
   "source": [
    "e = list(map(int,input().split()))\n",
    "print(e)"
   ]
  },
  {
   "cell_type": "code",
   "execution_count": 14,
   "metadata": {},
   "outputs": [
    {
     "name": "stdout",
     "output_type": "stream",
     "text": [
      "[True, False, True, False, True]\n"
     ]
    }
   ],
   "source": [
    "y = [6,7,8,9,0]\n",
    "r = list(map(lambda s: s%2==0,y)) #y is iterator,s%2==0 is function\n",
    "print(r)"
   ]
  },
  {
   "cell_type": "code",
   "execution_count": 6,
   "metadata": {},
   "outputs": [
    {
     "name": "stdout",
     "output_type": "stream",
     "text": [
      "3 4 5\n",
      "6 7 8\n",
      "<class 'int'>\n"
     ]
    },
    {
     "ename": "TypeError",
     "evalue": "'int' object is not iterable",
     "output_type": "error",
     "traceback": [
      "\u001b[1;31m---------------------------------------------------------------------------\u001b[0m",
      "\u001b[1;31mTypeError\u001b[0m                                 Traceback (most recent call last)",
      "\u001b[1;32m<ipython-input-6-fb14aa9fd39a>\u001b[0m in \u001b[0;36m<module>\u001b[1;34m\u001b[0m\n\u001b[0;32m      8\u001b[0m \u001b[0my\u001b[0m \u001b[1;33m=\u001b[0m \u001b[0minput\u001b[0m\u001b[1;33m(\u001b[0m\u001b[1;33m)\u001b[0m\u001b[1;33m.\u001b[0m\u001b[0msplit\u001b[0m\u001b[1;33m(\u001b[0m\u001b[1;33m)\u001b[0m\u001b[1;33m\u001b[0m\u001b[1;33m\u001b[0m\u001b[0m\n\u001b[0;32m      9\u001b[0m \u001b[0mr\u001b[0m \u001b[1;33m=\u001b[0m \u001b[0mlist\u001b[0m\u001b[1;33m(\u001b[0m\u001b[0mmap\u001b[0m\u001b[1;33m(\u001b[0m\u001b[0mint\u001b[0m\u001b[1;33m,\u001b[0m\u001b[0minput\u001b[0m\u001b[1;33m(\u001b[0m\u001b[1;33m)\u001b[0m\u001b[1;33m.\u001b[0m\u001b[0msplit\u001b[0m\u001b[1;33m(\u001b[0m\u001b[1;33m)\u001b[0m\u001b[1;33m)\u001b[0m\u001b[1;33m)\u001b[0m\u001b[1;33m\u001b[0m\u001b[1;33m\u001b[0m\u001b[0m\n\u001b[1;32m---> 10\u001b[1;33m \u001b[0mq\u001b[0m \u001b[1;33m=\u001b[0m \u001b[0mlist\u001b[0m\u001b[1;33m(\u001b[0m\u001b[0mmap\u001b[0m\u001b[1;33m(\u001b[0m\u001b[0mmlt\u001b[0m\u001b[1;33m,\u001b[0m\u001b[0mr\u001b[0m\u001b[1;33m)\u001b[0m\u001b[1;33m)\u001b[0m\u001b[1;33m\u001b[0m\u001b[1;33m\u001b[0m\u001b[0m\n\u001b[0m\u001b[0;32m     11\u001b[0m \u001b[0mprint\u001b[0m\u001b[1;33m(\u001b[0m\u001b[0mq\u001b[0m\u001b[1;33m)\u001b[0m\u001b[1;33m\u001b[0m\u001b[1;33m\u001b[0m\u001b[0m\n",
      "\u001b[1;32m<ipython-input-6-fb14aa9fd39a>\u001b[0m in \u001b[0;36mmlt\u001b[1;34m(u)\u001b[0m\n\u001b[0;32m      1\u001b[0m \u001b[1;32mdef\u001b[0m \u001b[0mmlt\u001b[0m\u001b[1;33m(\u001b[0m\u001b[0mu\u001b[0m\u001b[1;33m)\u001b[0m\u001b[1;33m:\u001b[0m\u001b[1;33m\u001b[0m\u001b[1;33m\u001b[0m\u001b[0m\n\u001b[0;32m      2\u001b[0m     \u001b[0mprint\u001b[0m\u001b[1;33m(\u001b[0m\u001b[0mtype\u001b[0m\u001b[1;33m(\u001b[0m\u001b[0mu\u001b[0m\u001b[1;33m)\u001b[0m\u001b[1;33m)\u001b[0m\u001b[1;33m\u001b[0m\u001b[1;33m\u001b[0m\u001b[0m\n\u001b[1;32m----> 3\u001b[1;33m     \u001b[1;32mfor\u001b[0m \u001b[0mp\u001b[0m \u001b[1;32min\u001b[0m \u001b[0mu\u001b[0m\u001b[1;33m:\u001b[0m\u001b[1;33m\u001b[0m\u001b[1;33m\u001b[0m\u001b[0m\n\u001b[0m\u001b[0;32m      4\u001b[0m         \u001b[0mprint\u001b[0m\u001b[1;33m(\u001b[0m\u001b[0mp\u001b[0m\u001b[1;33m)\u001b[0m\u001b[1;33m\u001b[0m\u001b[1;33m\u001b[0m\u001b[0m\n\u001b[0;32m      5\u001b[0m         \u001b[1;32mif\u001b[0m \u001b[0mp\u001b[0m\u001b[1;33m%\u001b[0m\u001b[1;36m2\u001b[0m\u001b[1;33m==\u001b[0m\u001b[1;36m0\u001b[0m\u001b[1;33m:\u001b[0m\u001b[1;33m\u001b[0m\u001b[1;33m\u001b[0m\u001b[0m\n",
      "\u001b[1;31mTypeError\u001b[0m: 'int' object is not iterable"
     ]
    }
   ],
   "source": [
    "def mlt(u):\n",
    "    print(type(u))\n",
    "    for p in u:\n",
    "        print(p)\n",
    "        if p%2==0:\n",
    "            return True\n",
    "    return False\n",
    "y = input().split()\n",
    "r = list(map(int,input().split()))\n",
    "q = list(map(mlt,r))\n",
    "print(q)"
   ]
  },
  {
   "cell_type": "code",
   "execution_count": 2,
   "metadata": {},
   "outputs": [
    {
     "name": "stdout",
     "output_type": "stream",
     "text": [
      "3 4 5\n",
      "['False', 'True', 'False', 'False']\n"
     ]
    }
   ],
   "source": [
    "def mlt(u):\n",
    "    s = []\n",
    "    for k in u:\n",
    "        if k%2==0:\n",
    "            s.append(\"True\")\n",
    "        s.append(\"False\")\n",
    "    return s\n",
    "r = list(map(int,input().split()))\n",
    "print(mlt(r))"
   ]
  },
  {
   "cell_type": "code",
   "execution_count": 5,
   "metadata": {},
   "outputs": [
    {
     "name": "stdout",
     "output_type": "stream",
     "text": [
      "3 4\n",
      "[False, True]\n"
     ]
    }
   ],
   "source": [
    "r = list(map(lambda s:s%2==0,map(int,input().split())))\n",
    "print(r)"
   ]
  },
  {
   "cell_type": "code",
   "execution_count": 1,
   "metadata": {},
   "outputs": [
    {
     "name": "stdout",
     "output_type": "stream",
     "text": [
      "3 4 5\n",
      "[True, False, False]\n"
     ]
    }
   ],
   "source": [
    "# only 3 multiples\n",
    "def Tml(h):\n",
    "    return h%3==0\n",
    "    \n",
    "    \n",
    "e = input().split()\n",
    "q = []\n",
    "for m in e:\n",
    "    q.append(int(m))\n",
    "#rint(Tml(q))\n",
    "print(list(map(Tml,q)))"
   ]
  },
  {
   "cell_type": "code",
   "execution_count": 2,
   "metadata": {},
   "outputs": [
    {
     "name": "stdout",
     "output_type": "stream",
     "text": [
      "3 4 5\n",
      "[True, False, False]\n"
     ]
    }
   ],
   "source": [
    "print(list(map(lambda t:t%3==0,map(int,input().split())))) # only 3 mul in 1 line"
   ]
  },
  {
   "cell_type": "code",
   "execution_count": null,
   "metadata": {},
   "outputs": [],
   "source": [
    "'''\n",
    "Filter:\n",
    "    ->It prints only True values to an iterator\n",
    "    ->syntax:\n",
    "    filter(functionname,iterator)\n",
    "'''"
   ]
  },
  {
   "cell_type": "code",
   "execution_count": 3,
   "metadata": {},
   "outputs": [
    {
     "name": "stdout",
     "output_type": "stream",
     "text": [
      "3 4 5 6\n"
     ]
    },
    {
     "data": {
      "text/plain": [
       "<filter at 0x21bed0bb948>"
      ]
     },
     "execution_count": 3,
     "metadata": {},
     "output_type": "execute_result"
    }
   ],
   "source": [
    "def tmul(v):\n",
    "    return v%3==0\n",
    "\n",
    "j = list(map(int,input().split()))\n",
    "filter(tmul,j)"
   ]
  },
  {
   "cell_type": "code",
   "execution_count": 4,
   "metadata": {},
   "outputs": [
    {
     "name": "stdout",
     "output_type": "stream",
     "text": [
      "3 4 5 6\n",
      "[3, 6]\n"
     ]
    }
   ],
   "source": [
    "def tmul(v):\n",
    "    return v%3==0\n",
    "\n",
    "j = list(map(int,input().split()))\n",
    "print(list(filter(tmul,j)))"
   ]
  },
  {
   "cell_type": "code",
   "execution_count": 6,
   "metadata": {},
   "outputs": [
    {
     "name": "stdout",
     "output_type": "stream",
     "text": [
      "3 2 6 7 9\n",
      "[3, 6, 9]\n"
     ]
    }
   ],
   "source": [
    "print(list(filter(lambda a:a%3==0,map(int,input().split()))))"
   ]
  },
  {
   "cell_type": "code",
   "execution_count": 7,
   "metadata": {},
   "outputs": [
    {
     "name": "stdout",
     "output_type": "stream",
     "text": [
      "2 3 4 5 6 7 2 4 5 6 7 2\n",
      "[2, 2, 2]\n"
     ]
    }
   ],
   "source": [
    "print(list(filter(lambda e:e==2,map(int,input().split()))))"
   ]
  },
  {
   "cell_type": "code",
   "execution_count": 9,
   "metadata": {},
   "outputs": [
    {
     "name": "stdout",
     "output_type": "stream",
     "text": [
      "5 10 15 19 25 26 3\n",
      "[5, 10, 15, 19, 3]\n"
     ]
    }
   ],
   "source": [
    "print(list(filter(lambda e:e<20,map(int,input().split()))))"
   ]
  },
  {
   "cell_type": "code",
   "execution_count": 11,
   "metadata": {},
   "outputs": [
    {
     "ename": "SyntaxError",
     "evalue": "unexpected EOF while parsing (<ipython-input-11-cc718d6b36bf>, line 1)",
     "output_type": "error",
     "traceback": [
      "\u001b[1;36m  File \u001b[1;32m\"<ipython-input-11-cc718d6b36bf>\"\u001b[1;36m, line \u001b[1;32m1\u001b[0m\n\u001b[1;33m    print(list(map(lambda e:e<10,filter(lambda r:r<20,map(int,input().split()))))\u001b[0m\n\u001b[1;37m                                                                                 ^\u001b[0m\n\u001b[1;31mSyntaxError\u001b[0m\u001b[1;31m:\u001b[0m unexpected EOF while parsing\n"
     ]
    }
   ],
   "source": [
    "print(list(map(lambda e:e<10,filter(lambda r:r<20,map(int,input().split()))))"
   ]
  },
  {
   "cell_type": "code",
   "execution_count": 15,
   "metadata": {},
   "outputs": [
    {
     "name": "stdout",
     "output_type": "stream",
     "text": [
      "3 4 5 2 78 98 45 20 19 56 1000\n",
      "[True, True, True, True, False, False, False, False, True, False, False]\n"
     ]
    }
   ],
   "source": [
    "al = list(filter(lambda e:e<10,map(lambda r:r<20,map(int,input().split()))))\n",
    "print(list(filter(lambda d:d<10,al)))"
   ]
  },
  {
   "cell_type": "code",
   "execution_count": 17,
   "metadata": {},
   "outputs": [
    {
     "name": "stdout",
     "output_type": "stream",
     "text": [
      "3 4 5 2 78 45 20\n",
      "[True, True, True, True]\n"
     ]
    }
   ],
   "source": [
    "al = list(filter(lambda e:e<20,map(int,input().split())))\n",
    "print(list(filter(lambda r:r<10,map(lambda d:d<10,al))))"
   ]
  },
  {
   "cell_type": "code",
   "execution_count": 18,
   "metadata": {},
   "outputs": [
    {
     "name": "stdout",
     "output_type": "stream",
     "text": [
      "2 3 4 5 78 98 20 19\n",
      "[2, 3, 4, 5]\n"
     ]
    }
   ],
   "source": [
    "al = list(filter(lambda e:e<20,map(int,input().split())))\n",
    "print(list(filter(lambda r:r<10,al)))"
   ]
  },
  {
   "cell_type": "code",
   "execution_count": null,
   "metadata": {},
   "outputs": [],
   "source": [
    "'''\n",
    "reduce:\n",
    "    ->it prints or else it returns only single value\n",
    "    ->syntax:\n",
    "    reduce(functionname,iterator)\n",
    "    ->it can be accessible by using import stmt of functools\n",
    "'''"
   ]
  },
  {
   "cell_type": "code",
   "execution_count": 19,
   "metadata": {},
   "outputs": [
    {
     "name": "stdout",
     "output_type": "stream",
     "text": [
      "5 10 20 30\n",
      "[30]\n"
     ]
    }
   ],
   "source": [
    "r = list(filter(lambda f:f>20,map(int,input().split())))\n",
    "print(r)"
   ]
  },
  {
   "cell_type": "code",
   "execution_count": 21,
   "metadata": {},
   "outputs": [
    {
     "name": "stdout",
     "output_type": "stream",
     "text": [
      "5 6 7 8\n"
     ]
    },
    {
     "ename": "NameError",
     "evalue": "name 'reduce' is not defined",
     "output_type": "error",
     "traceback": [
      "\u001b[1;31m---------------------------------------------------------------------------\u001b[0m",
      "\u001b[1;31mNameError\u001b[0m                                 Traceback (most recent call last)",
      "\u001b[1;32m<ipython-input-21-c7b609a6a14b>\u001b[0m in \u001b[0;36m<module>\u001b[1;34m\u001b[0m\n\u001b[0;32m      1\u001b[0m \u001b[0mr\u001b[0m \u001b[1;33m=\u001b[0m \u001b[0mlist\u001b[0m\u001b[1;33m(\u001b[0m\u001b[0mfilter\u001b[0m\u001b[1;33m(\u001b[0m\u001b[1;32mlambda\u001b[0m \u001b[0mf\u001b[0m\u001b[1;33m:\u001b[0m\u001b[0mf\u001b[0m\u001b[1;33m>\u001b[0m\u001b[1;36m20\u001b[0m\u001b[1;33m,\u001b[0m\u001b[0mmap\u001b[0m\u001b[1;33m(\u001b[0m\u001b[0mint\u001b[0m\u001b[1;33m,\u001b[0m\u001b[0minput\u001b[0m\u001b[1;33m(\u001b[0m\u001b[1;33m)\u001b[0m\u001b[1;33m.\u001b[0m\u001b[0msplit\u001b[0m\u001b[1;33m(\u001b[0m\u001b[1;33m)\u001b[0m\u001b[1;33m)\u001b[0m\u001b[1;33m)\u001b[0m\u001b[1;33m)\u001b[0m\u001b[1;33m\u001b[0m\u001b[1;33m\u001b[0m\u001b[0m\n\u001b[1;32m----> 2\u001b[1;33m \u001b[0mprint\u001b[0m\u001b[1;33m(\u001b[0m\u001b[0mreduce\u001b[0m\u001b[1;33m(\u001b[0m\u001b[1;32mlambda\u001b[0m \u001b[0mx\u001b[0m\u001b[1;33m,\u001b[0m\u001b[0my\u001b[0m\u001b[1;33m:\u001b[0m\u001b[0mx\u001b[0m\u001b[1;33m+\u001b[0m\u001b[0my\u001b[0m\u001b[1;33m,\u001b[0m\u001b[0mr\u001b[0m\u001b[1;33m)\u001b[0m\u001b[1;33m)\u001b[0m\u001b[1;33m\u001b[0m\u001b[1;33m\u001b[0m\u001b[0m\n\u001b[0m",
      "\u001b[1;31mNameError\u001b[0m: name 'reduce' is not defined"
     ]
    }
   ],
   "source": [
    "r = list(filter(lambda f:f>20,map(int,input().split())))\n",
    "print(reduce(lambda x,y:x+y,r))"
   ]
  },
  {
   "cell_type": "code",
   "execution_count": 22,
   "metadata": {},
   "outputs": [
    {
     "name": "stdout",
     "output_type": "stream",
     "text": [
      "23 40 5 67\n",
      "[23, 40, 67]\n",
      "130\n"
     ]
    }
   ],
   "source": [
    "from functools import  reduce\n",
    "r = list(filter(lambda f:f>20,map(int,input().split())))\n",
    "print(r)\n",
    "print(reduce(lambda x,y:x+y,r))"
   ]
  },
  {
   "cell_type": "code",
   "execution_count": null,
   "metadata": {},
   "outputs": [],
   "source": [
    "'''\n",
    "a = [5,6,7,8]\n",
    "s = 0 + 5=>s\n",
    "s = 5 + 6=>s\n",
    "s = 11 + 7=>s\n",
    "s = 18 + 8=>s\n",
    "'''"
   ]
  },
  {
   "cell_type": "code",
   "execution_count": 27,
   "metadata": {},
   "outputs": [
    {
     "name": "stdout",
     "output_type": "stream",
     "text": [
      "23 40 5 67 89\n",
      "219\n"
     ]
    }
   ],
   "source": [
    "print(reduce(lambda x,y:x+y,filter(lambda f:f>20,map(int,input().split()))))"
   ]
  },
  {
   "cell_type": "code",
   "execution_count": null,
   "metadata": {},
   "outputs": [],
   "source": [
    "'''\n",
    "lambda,map,reduce:\n",
    "\n",
    "https://medium.com/@goutomroy/python-lambda-map-filter-reduce-261f29561fcc\n",
    "\n",
    "https://stackabuse.com/map-filter-and-reduce-in-python-with-examples/\n",
    "\n",
    "https://www.tutorialspoint.com/python/python_functions.htm\n",
    "\n",
    "'''"
   ]
  }
 ],
 "metadata": {
  "kernelspec": {
   "display_name": "Python 3",
   "language": "python",
   "name": "python3"
  },
  "language_info": {
   "codemirror_mode": {
    "name": "ipython",
    "version": 3
   },
   "file_extension": ".py",
   "mimetype": "text/x-python",
   "name": "python",
   "nbconvert_exporter": "python",
   "pygments_lexer": "ipython3",
   "version": "3.7.4"
  }
 },
 "nbformat": 4,
 "nbformat_minor": 4
}
