{
 "cells": [
  {
   "cell_type": "markdown",
   "metadata": {},
   "source": [
    "# Today Concepts \n",
    "## 16-09-2020\n",
    "### Jupiter Installation\n",
    "- to install jupytor we have to run a cmd pip install jupyter\n",
    "- to open jupyter notebook we have to run a cmd prompt i,e: jupyter notebook\n",
    "### Main Heading\n",
    "-#### Sub Heading1\n",
    " - #### Sub heading2\n",
    " <h2>i am h2 tag </h2>\n",
    " <p>i am p tag </p>\n",
    " <a href=''>i am <a> tag </a>\n",
    " <img src='python-django-logo.jpg' height=200 width=200>This is img tag</img>"
   ]
  },
  {
   "cell_type": "code",
   "execution_count": 3,
   "metadata": {},
   "outputs": [
    {
     "name": "stdout",
     "output_type": "stream",
     "text": [
      "hello world\n",
      "i am using jupyter\n",
      "i am from MyM\n"
     ]
    },
    {
     "data": {
      "text/plain": [
       "60"
      ]
     },
     "execution_count": 3,
     "metadata": {},
     "output_type": "execute_result"
    }
   ],
   "source": [
    "print(\"hello world\")\n",
    "print('i am using jupyter')\n",
    "4+7\n",
    "print('i am from MyM')\n",
    "56+4"
   ]
  }
 ],
 "metadata": {
  "kernelspec": {
   "display_name": "Python 3",
   "language": "python",
   "name": "python3"
  },
  "language_info": {
   "codemirror_mode": {
    "name": "ipython",
    "version": 3
   },
   "file_extension": ".py",
   "mimetype": "text/x-python",
   "name": "python",
   "nbconvert_exporter": "python",
   "pygments_lexer": "ipython3",
   "version": "3.7.4"
  }
 },
 "nbformat": 4,
 "nbformat_minor": 4
}
