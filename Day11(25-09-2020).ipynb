{
 "cells": [
  {
   "cell_type": "markdown",
   "metadata": {},
   "source": [
    " - strings:slicing,methods"
   ]
  },
  {
   "cell_type": "code",
   "execution_count": 3,
   "metadata": {},
   "outputs": [
    {
     "name": "stdout",
     "output_type": "stream",
     "text": [
      "m\n",
      "M\n"
     ]
    }
   ],
   "source": [
    "def swap_case(s):\n",
    "    return s.swapcase()\n",
    "\n",
    "m = input()\n",
    "print(swap_case(m))"
   ]
  },
  {
   "cell_type": "code",
   "execution_count": 1,
   "metadata": {},
   "outputs": [
    {
     "ename": "SyntaxError",
     "evalue": "invalid syntax (<ipython-input-1-49aab1a5a3b0>, line 1)",
     "output_type": "error",
     "traceback": [
      "\u001b[1;36m  File \u001b[1;32m\"<ipython-input-1-49aab1a5a3b0>\"\u001b[1;36m, line \u001b[1;32m1\u001b[0m\n\u001b[1;33m    p = \"HackerRank.com presents \"Pythonist 2\".\"\u001b[0m\n\u001b[1;37m                                          ^\u001b[0m\n\u001b[1;31mSyntaxError\u001b[0m\u001b[1;31m:\u001b[0m invalid syntax\n"
     ]
    }
   ],
   "source": [
    "p = \"HackerRank.com presents \"Pythonist 2\".\"\n",
    "print(p.lower())\n",
    "print(p.capitalize())\n",
    "print(p.title())\n",
    "print(p.swapcase())"
   ]
  },
  {
   "cell_type": "code",
   "execution_count": 2,
   "metadata": {},
   "outputs": [
    {
     "name": "stdout",
     "output_type": "stream",
     "text": [
      "['__add__', '__class__', '__contains__', '__delattr__', '__dir__', '__doc__', '__eq__', '__format__', '__ge__', '__getattribute__', '__getitem__', '__getnewargs__', '__gt__', '__hash__', '__init__', '__init_subclass__', '__iter__', '__le__', '__len__', '__lt__', '__mod__', '__mul__', '__ne__', '__new__', '__reduce__', '__reduce_ex__', '__repr__', '__rmod__', '__rmul__', '__setattr__', '__sizeof__', '__str__', '__subclasshook__', 'capitalize', 'casefold', 'center', 'count', 'encode', 'endswith', 'expandtabs', 'find', 'format', 'format_map', 'index', 'isalnum', 'isalpha', 'isascii', 'isdecimal', 'isdigit', 'isidentifier', 'islower', 'isnumeric', 'isprintable', 'isspace', 'istitle', 'isupper', 'join', 'ljust', 'lower', 'lstrip', 'maketrans', 'partition', 'replace', 'rfind', 'rindex', 'rjust', 'rpartition', 'rsplit', 'rstrip', 'split', 'splitlines', 'startswith', 'strip', 'swapcase', 'title', 'translate', 'upper', 'zfill']\n"
     ]
    }
   ],
   "source": [
    "print(dir(str))"
   ]
  },
  {
   "cell_type": "code",
   "execution_count": 6,
   "metadata": {},
   "outputs": [
    {
     "name": "stdout",
     "output_type": "stream",
     "text": [
      "['this', 'is', 'sample', 'example']\n"
     ]
    }
   ],
   "source": [
    "a = \"this is sample example\"\n",
    "w = a.split(\" \")\n",
    "print(w)"
   ]
  },
  {
   "cell_type": "code",
   "execution_count": 8,
   "metadata": {},
   "outputs": [
    {
     "name": "stdout",
     "output_type": "stream",
     "text": [
      "['th', 's ', 's sample example'] <class 'list'>\n"
     ]
    }
   ],
   "source": [
    "a = \"this is sample example\"\n",
    "w = a.split(\"i\")\n",
    "print(w,type(w))"
   ]
  },
  {
   "cell_type": "code",
   "execution_count": 12,
   "metadata": {},
   "outputs": [
    {
     "name": "stdout",
     "output_type": "stream",
     "text": [
      "z\n",
      "['thisissampleexample']\n"
     ]
    }
   ],
   "source": [
    "r = \"thisissampleexample\"\n",
    "n = input()\n",
    "c = r.split(n)\n",
    "print(c)"
   ]
  },
  {
   "cell_type": "code",
   "execution_count": 13,
   "metadata": {},
   "outputs": [
    {
     "name": "stdout",
     "output_type": "stream",
     "text": [
      "a\n",
      "['thisiss', 'mpleex', 'mple']\n"
     ]
    }
   ],
   "source": [
    "r = \"thisissampleexample\"\n",
    "n = input()\n",
    "c = r.split(n)\n",
    "print(c)"
   ]
  },
  {
   "cell_type": "code",
   "execution_count": 14,
   "metadata": {},
   "outputs": [
    {
     "name": "stdout",
     "output_type": "stream",
     "text": [
      "thisissampleexample\n",
      "s\n",
      "['thi', 'i', '', 'ampleexample']\n"
     ]
    }
   ],
   "source": [
    "r = input() #\"thisissampleexample\"  dynamically give\n",
    "n = input()\n",
    "c = r.split(n)\n",
    "print(c)\n",
    "t = \"##\".join(c)"
   ]
  },
  {
   "cell_type": "code",
   "execution_count": 15,
   "metadata": {},
   "outputs": [
    {
     "name": "stdout",
     "output_type": "stream",
     "text": [
      "thisissampleexample\n",
      "ss\n",
      "['thisi', 'ampleexample']\n",
      "thisi##ampleexample\n"
     ]
    }
   ],
   "source": [
    "r = input() #\"thisissampleexample\"  dynamically give\n",
    "n = input()\n",
    "c = r.split(n)\n",
    "print(c)\n",
    "t = \"##\".join(c)\n",
    "print(t)"
   ]
  },
  {
   "cell_type": "code",
   "execution_count": 17,
   "metadata": {},
   "outputs": [
    {
     "name": "stdout",
     "output_type": "stream",
     "text": [
      "avsis\n",
      "s\n",
      "['av', 'i', '']\n",
      "-\n",
      "av-i-\n"
     ]
    }
   ],
   "source": [
    "r = input() #\"thisissampleexample\"  dynamically give\n",
    "n = input()\n",
    "c = r.split(n)\n",
    "print(c)\n",
    "p=input()\n",
    "t = p.join(c)\n",
    "print(t)"
   ]
  },
  {
   "cell_type": "code",
   "execution_count": 29,
   "metadata": {},
   "outputs": [
    {
     "name": "stdout",
     "output_type": "stream",
     "text": [
      "asr@R%qYd&uq\n"
     ]
    }
   ],
   "source": [
    "y = \"asr@R%qYd&uq\"\n",
    "#z = s @ % Y & q   #odd place position char are:\n",
    "print(y)"
   ]
  },
  {
   "cell_type": "code",
   "execution_count": 36,
   "metadata": {
    "scrolled": true
   },
   "outputs": [
    {
     "data": {
      "text/plain": [
       "'q&Y%@s'"
      ]
     },
     "execution_count": 36,
     "metadata": {},
     "output_type": "execute_result"
    }
   ],
   "source": [
    "y[::-2]"
   ]
  },
  {
   "cell_type": "code",
   "execution_count": 42,
   "metadata": {},
   "outputs": [
    {
     "name": "stdout",
     "output_type": "stream",
     "text": [
      "odd place position chars are:\n",
      "even place position chars are:a "
     ]
    }
   ],
   "source": [
    "#y = \"asr@R1%qY6d&u8q\"\n",
    "# odd place position char are:s @ 1 q 6 & 8\n",
    "# even \"     \"         \"   count is:?\n",
    "# odd                               :?\n",
    "# uppercase chars are           : R Y\n",
    "#lowercase          :?\n",
    "#integer are:1 6 8\n",
    "def oddpc(t):\n",
    "    print(\"odd place position chars are:\",end=\"\")\n",
    "    for l in range(len(t)):\n",
    "        if l%2!=0:\n",
    "            print(t[l],end=\" \")\n",
    "        return\n",
    "    \n",
    "def evnpc(y):\n",
    "    print(\"\\neven place position chars are:\",end=\"\")\n",
    "    for l in range(len(y)):\n",
    "        if l%2==0:\n",
    "            print(y[l],end=\" \")\n",
    "        return\n",
    "    \n",
    "    \n",
    "m = \"asr@R1%qY6d&u8q\"\n",
    "oddpc(m)\n",
    "evnpc(m)"
   ]
  },
  {
   "cell_type": "code",
   "execution_count": 47,
   "metadata": {},
   "outputs": [
    {
     "name": "stdout",
     "output_type": "stream",
     "text": [
      "odd place position chars are:\n",
      "even place position chars are:a \n",
      "odd place position chars count is: 0\n",
      "\n",
      " Even place position chars count is: 1\n"
     ]
    }
   ],
   "source": [
    "def oddpc(t):\n",
    "    e = \"\"\n",
    "    print(\"odd place position chars are:\",end=\"\")\n",
    "    for l in range(len(t)):\n",
    "        if l%2!=0:\n",
    "            e+=t[l]\n",
    "        return e\n",
    "    \n",
    "def evnpc(y):\n",
    "    u = \"\"\n",
    "    print(\"\\neven place position chars are:\",end=\"\")\n",
    "    for l in range(len(y)):\n",
    "        if l%2==0:\n",
    "            u+=y[l]\n",
    "        return u\n",
    "    \n",
    "    \n",
    "m = \"asr@R1%qY6d&u8q\"\n",
    "q = oddpc(m)\n",
    "for b in q:\n",
    "    print(b,end=\" \")\n",
    "z = evnpc(m)\n",
    "for a in z:\n",
    "    print(a,end=\" \")\n",
    "print(\"\\nodd place position chars count is: {}\".format(len(q)))\n",
    "print(\"\\n Even place position chars count is: {}\".format(len(z)))"
   ]
  },
  {
   "cell_type": "code",
   "execution_count": 52,
   "metadata": {},
   "outputs": [
    {
     "ename": "IndentationError",
     "evalue": "unexpected indent (<ipython-input-52-372976804881>, line 21)",
     "output_type": "error",
     "traceback": [
      "\u001b[1;36m  File \u001b[1;32m\"<ipython-input-52-372976804881>\"\u001b[1;36m, line \u001b[1;32m21\u001b[0m\n\u001b[1;33m    elif v.islower():\u001b[0m\n\u001b[1;37m    ^\u001b[0m\n\u001b[1;31mIndentationError\u001b[0m\u001b[1;31m:\u001b[0m unexpected indent\n"
     ]
    }
   ],
   "source": [
    "def oddpc(t):\n",
    "    e = \"\"\n",
    "    print(\"odd place position chars are:\",end=\"\")\n",
    "    for l in range(len(t)):\n",
    "        if l%2!=0:\n",
    "            e+=t[l]\n",
    "        return e\n",
    "    \n",
    "def evnpc(y):\n",
    "    u = \"\"\n",
    "    print(\"\\neven place position chars are:\",end=\"\")\n",
    "    for l in range(len(y)):\n",
    "        if l%2==0:\n",
    "            u+=y[l]\n",
    "        return u\n",
    "def spch(d):\n",
    "    u,l,i,s=\"\",\"\",\"\",\"\"\n",
    "    for v in d:\n",
    "        if v.isupper():\n",
    "            u+=v+\" \"\n",
    "              elif v.islower():\n",
    "                l+=v+\" \"\n",
    "                  elif v.isdecimal():\n",
    "                    i+=v+\" \"\n",
    "                    else:\n",
    "                        s+=v+\" \"\n",
    "                        print(\"uppercase chars are:{}\".format(u))\n",
    "                        print(\"lowercase chars are:{}\".format(l))\n",
    "                        print(\"integers chars are:{}\".format(i))\n",
    "                        print(\"special  chars are:{}\".format(s))\n",
    "                        \n",
    "                return v.\n",
    "        \n",
    "        \n",
    "    \n",
    "m = \"asr@R1%qY6d&u8q\"\n",
    "spch(m)\n",
    "q = oddpc(m)\n",
    "for b in q:\n",
    "    print(b,end=\" \")\n",
    "z = evnpc(m)\n",
    "for a in z:\n",
    "    print(a,end=\" \")\n",
    "print(\"\\nodd place position chars count is: {}\".format(len(q)))\n",
    "print(\"\\n Even place position chars count is: {}\".format(len(z)))"
   ]
  },
  {
   "cell_type": "code",
   "execution_count": null,
   "metadata": {},
   "outputs": [],
   "source": [
    "def oddpc(t):\n",
    "    e,o = \"\",\"\"\n",
    "    ec,oc = 0,0\n",
    "    for l in range(len(t)):\n",
    "        if l%2!=0:\n",
    "            o+=t[l]+\" \"\n",
    "             oc+=l\n",
    "        else:\n",
    "            e+=t[1]+\" \"\n",
    "            ec+=1\n",
    "        print(\"odd place position chars are:{}\".format(o))\n",
    "        print(\"even place position chars are:{}\".format(e))\n",
    "        print(\"odd place position chars are:{}\".format(oc))\n",
    "        print(\"even place position chars are:{}\".format(ec))\n",
    "        return \n",
    "    \n",
    "    def spch(d):\n",
    "        u,l,i,s=\"\",\"\",\"\",\"\"\n",
    "        for v in d:\n",
    "            if v.isupper():\n",
    "                u+=v+\" \"\n",
    "            elif v.islower():\n",
    "                l+=v+\" \"\n",
    "            elif v.isdecimal():\n",
    "                    i+=v+\" \"\n",
    "                    else:\n",
    "                        s+=v+\" \"\n",
    "            print(\"uppercase chars are:{}\".format(u))\n",
    "            print(\"lowercase chars are:{}\".format(l))\n",
    "            print(\"integer are:{}\".format(i))\n",
    "            \n",
    "m = \"asr@R1%qY6d&u8q\"           \n",
    "    "
   ]
  }
 ],
 "metadata": {
  "kernelspec": {
   "display_name": "Python 3",
   "language": "python",
   "name": "python3"
  },
  "language_info": {
   "codemirror_mode": {
    "name": "ipython",
    "version": 3
   },
   "file_extension": ".py",
   "mimetype": "text/x-python",
   "name": "python",
   "nbconvert_exporter": "python",
   "pygments_lexer": "ipython3",
   "version": "3.7.4"
  }
 },
 "nbformat": 4,
 "nbformat_minor": 4
}
